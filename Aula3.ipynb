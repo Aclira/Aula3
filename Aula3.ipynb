{
 "cells": [
  {
   "cell_type": "code",
   "execution_count": 50,
   "metadata": {},
   "outputs": [
    {
     "name": "stdout",
     "output_type": "stream",
     "text": [
      "0 01101 0101010101 = 0.333251953125 ≈ 1/3\n",
      "0.333251953125\n"
     ]
    }
   ],
   "source": [
    "print('0 01101 0101010101 = 0.333251953125 ≈ 1/3')\n",
    "print(2**-2*(1+(2**-2+2**-4+2**-6+2**-8+2**-10)))"
   ]
  },
  {
   "cell_type": "code",
   "execution_count": 10,
   "metadata": {},
   "outputs": [
    {
     "name": "stdout",
     "output_type": "stream",
     "text": [
      "Exemplo: 0.333251953125\n",
      "\n",
      "O def:\n",
      "0.333251953125\n"
     ]
    }
   ],
   "source": [
    "def numbformat(sin, exp, num):\n",
    "    #Encontro o bit de sinal\n",
    "    sinal = (-1)**int(sin)\n",
    "    #Defino o tamanho do expoente pra ser calculado o valor\n",
    "    aux = 4\n",
    "    #Expoente inicializado\n",
    "    expoente = 0\n",
    "    for n in exp:\n",
    "    #Expoente faz a conversão do exp binario\n",
    "        expoente = expoente + int(n)*2**aux\n",
    "        #Verificação de norma\n",
    "        if(n=='1'):\n",
    "          tipo = 1\n",
    "        else:\n",
    "          tipo = 0\n",
    "        aux = aux -1\n",
    "\n",
    "    expoente = expoente - 15\n",
    "\n",
    "    #Encontrando o 1 a ser somado caso seja norma\n",
    "    aux = 1\n",
    "    numero = 0\n",
    "    for n in num:\n",
    "        if n == '1':\n",
    "            add = int(n)\n",
    "        numero = numero + int(n)*2**(-aux)\n",
    "        aux = aux + 1\n",
    "    if tipo == 1:\n",
    "        print(sinal*2**expoente*(add + numero))\n",
    "    else:\n",
    "        expoente = -14\n",
    "        print(sinal*2**expoente*(add + numero))\n",
    "\n",
    "#Exemplo para comparação\n",
    "#print('0 01101 0101010101 = 0.333251953125 ≈ 1/3')\n",
    "print(\"Exemplo:\",2**-2*(1+(2**-2+2**-4+2**-6+2**-8+2**-10)))\n",
    "\n",
    "print(\"\\nO def:\")\n",
    "numbformat('0','01101','0101010101')\n",
    "    "
   ]
  },
  {
   "cell_type": "code",
   "execution_count": null,
   "metadata": {
    "collapsed": true
   },
   "outputs": [],
   "source": [
    "p/ casa fazer com outras precisões\n"
   ]
  }
 ],
 "metadata": {
  "anaconda-cloud": {},
  "kernelspec": {
   "display_name": "Python 3",
   "language": "python",
   "name": "python3"
  },
  "language_info": {
   "codemirror_mode": {
    "name": "ipython",
    "version": 3
   },
   "file_extension": ".py",
   "mimetype": "text/x-python",
   "name": "python",
   "nbconvert_exporter": "python",
   "pygments_lexer": "ipython3",
   "version": "3.6.5"
  }
 },
 "nbformat": 4,
 "nbformat_minor": 1
}
