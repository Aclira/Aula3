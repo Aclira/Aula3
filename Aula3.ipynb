{
 "cells": [
  {
   "cell_type": "code",
   "execution_count": 50,
   "metadata": {
    "collapsed": false
   },
   "outputs": [
    {
     "name": "stdout",
     "output_type": "stream",
     "text": [
      "0 01101 0101010101 = 0.333251953125 ≈ 1/3\n",
      "0.333251953125\n"
     ]
    }
   ],
   "source": [
    "print('0 01101 0101010101 = 0.333251953125 ≈ 1/3')\n",
    "print(2**-2*(1+(2**-2+2**-4+2**-6+2**-8+2**-10)))"
   ]
  },
  {
   "cell_type": "code",
   "execution_count": 49,
   "metadata": {
    "collapsed": false
   },
   "outputs": [
    {
     "name": "stdout",
     "output_type": "stream",
     "text": [
      "['0', '23456']\n",
      "0.23456\n"
     ]
    }
   ],
   "source": [
    "#Em andamento\n",
    "sin = ''\n",
    "exp = ''\n",
    "num = ''\n",
    "def numbformat(sin, exp, num):\n",
    "    num = str(n)\n",
    "    aux = num.split(\".\")\n",
    "    if(aux[0] == 1):\n",
    "        print(\"Norma\\n\")\n",
    "        vn = 1\n",
    "    elif(aux[1]==0):\n",
    "        print(\"Subnorma\\n\")\n",
    "        vsn = 0\n",
    "    print(aux)\n",
    "    print(num)\n",
    "        \n",
    "numbformat('1','0000','0000000001')\n",
    "    "
   ]
  },
  {
   "cell_type": "code",
   "execution_count": null,
   "metadata": {
    "collapsed": true
   },
   "outputs": [],
   "source": [
    "p/ casa fazer com outras precisões\n"
   ]
  }
 ],
 "metadata": {
  "anaconda-cloud": {},
  "kernelspec": {
   "display_name": "Python [default]",
   "language": "python",
   "name": "python3"
  },
  "language_info": {
   "codemirror_mode": {
    "name": "ipython",
    "version": 3
   },
   "file_extension": ".py",
   "mimetype": "text/x-python",
   "name": "python",
   "nbconvert_exporter": "python",
   "pygments_lexer": "ipython3",
   "version": "3.5.2"
  }
 },
 "nbformat": 4,
 "nbformat_minor": 1
}
